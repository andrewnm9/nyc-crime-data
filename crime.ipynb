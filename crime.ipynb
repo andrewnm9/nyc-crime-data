{
 "cells": [
  {
   "cell_type": "code",
   "execution_count": null,
   "metadata": {},
   "outputs": [],
   "source": [
    "%matplotlib inline\n",
    "\n",
    "import pandas as pd\n",
    "import numpy as np\n",
    "import matplotlib.pyplot as plt\n",
    "import seaborn as sns\n",
    "sns.set(style=\"darkgrid\")"
   ]
  },
  {
   "cell_type": "code",
   "execution_count": null,
   "metadata": {},
   "outputs": [],
   "source": [
    "#df = pd.read_csv(\"NYPD_Complaint_Data_Historic.tsv\", sep=\"\\t\", usecols=['CMPLNT_FR_DT'])\n",
    "df = pd.read_csv(\"NYPD_Complaint_Data_Historic.tsv\", sep=\"\\t\")"
   ]
  },
  {
   "cell_type": "code",
   "execution_count": null,
   "metadata": {},
   "outputs": [],
   "source": [
    "df.head()"
   ]
  },
  {
   "cell_type": "code",
   "execution_count": null,
   "metadata": {},
   "outputs": [],
   "source": [
    "len(df)"
   ]
  },
  {
   "cell_type": "code",
   "execution_count": null,
   "metadata": {},
   "outputs": [],
   "source": [
    "df.dtypes"
   ]
  },
  {
   "cell_type": "code",
   "execution_count": null,
   "metadata": {},
   "outputs": [],
   "source": [
    "df.isna().sum()"
   ]
  },
  {
   "cell_type": "code",
   "execution_count": null,
   "metadata": {},
   "outputs": [],
   "source": [
    "tm = pd.to_datetime(df['CMPLNT_FR_DT'], format='%m/%d/%Y', errors='coerce')\n"
   ]
  },
  {
   "cell_type": "code",
   "execution_count": null,
   "metadata": {},
   "outputs": [],
   "source": [
    "for col in df:\n",
    "    print(col)\n",
    "    print(df[col].unique())\n",
    "    print('\\n')"
   ]
  },
  {
   "cell_type": "code",
   "execution_count": null,
   "metadata": {},
   "outputs": [],
   "source": [
    "print([df[col].value_counts() for col in df])"
   ]
  },
  {
   "cell_type": "code",
   "execution_count": null,
   "metadata": {},
   "outputs": [],
   "source": [
    "def plotPerColumnDistribution(df, colName):\n",
    "    nunique = df.nunique()\n",
    "    if not(1 < nunique[colName] < 100):\n",
    "        return\n",
    "    fig, ax = plt.subplots()\n",
    "    columnDf = df.iloc[:, df.columns.get_loc(colName)]\n",
    "    if (not np.issubdtype(type(columnDf.iloc[0]), np.number)):\n",
    "        valueCounts = columnDf.value_counts()\n",
    "        valueCounts.plot.bar(ax=ax)\n",
    "    else:\n",
    "        columnDf.hist(ax=ax)\n",
    "    ax.set_ylabel(\"counts\")\n",
    "    plt.show()\n",
    "    \n",
    "plotPerColumnDistribution(df, 'PREM_TYP_DESC')"
   ]
  },
  {
   "cell_type": "code",
   "execution_count": null,
   "metadata": {
    "scrolled": true
   },
   "outputs": [],
   "source": [
    "import matplotlib.image as mpimg\n",
    "sns.set(style=\"white\")\n",
    "map_img=mpimg.imread('New-York-City-boundary-map2.png')\n",
    "#ax = sns.scatterplot(x='X_COORD_CD', y='Y_COORD_CD', data=df, alpha=0.3)\n",
    "#ax.map(hexbin, 'X_COORD_CD', 'Y_COORD_CD', alpha=0.6)\n",
    "g = sns.jointplot(x=df['X_COORD_CD'].values, y=df['Y_COORD_CD'].values, size=10, kind='hex', alpha=0.8, color=\"r\")\n",
    "g.ax_joint.imshow(map_img, aspect = 'equal',extent = g.ax_joint.get_xlim() + g.ax_joint.get_ylim(),zorder = 1, alpha=0.2, origin='upper')\n",
    "plt.ylabel('Longitude', fontsize=12)\n",
    "plt.xlabel('Latitude', fontsize=12)\n",
    "plt.show()"
   ]
  },
  {
   "cell_type": "code",
   "execution_count": null,
   "metadata": {},
   "outputs": [],
   "source": [
    "df.head(10)"
   ]
  }
 ],
 "metadata": {
  "kernelspec": {
   "display_name": "Python 3",
   "language": "python",
   "name": "python3"
  },
  "language_info": {
   "codemirror_mode": {
    "name": "ipython",
    "version": 3
   },
   "file_extension": ".py",
   "mimetype": "text/x-python",
   "name": "python",
   "nbconvert_exporter": "python",
   "pygments_lexer": "ipython3",
   "version": "3.7.0"
  }
 },
 "nbformat": 4,
 "nbformat_minor": 2
}
