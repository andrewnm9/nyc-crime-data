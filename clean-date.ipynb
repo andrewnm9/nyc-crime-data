{
 "cells": [
  {
   "cell_type": "code",
   "execution_count": 1,
   "metadata": {},
   "outputs": [],
   "source": [
    "%matplotlib inline\n",
    "\n",
    "import pandas as pd\n",
    "import numpy as np\n",
    "import matplotlib.pyplot as plt\n",
    "import seaborn as sns\n",
    "sns.set(style=\"darkgrid\")"
   ]
  },
  {
   "cell_type": "code",
   "execution_count": 2,
   "metadata": {},
   "outputs": [],
   "source": [
    "df = pd.read_csv(\"NYPD_Complaint_Data_Historic.tsv\", sep=\"\\t\")"
   ]
  },
  {
   "cell_type": "code",
   "execution_count": 4,
   "metadata": {},
   "outputs": [
    {
     "data": {
      "text/plain": [
       "386936826    1\n",
       "131226646    1\n",
       "932662984    1\n",
       "445019746    1\n",
       "992368230    1\n",
       "534142567    1\n",
       "935736938    1\n",
       "551949934    1\n",
       "125236850    1\n",
       "791854654    1\n",
       "348577399    1\n",
       "659992185    1\n",
       "953597563    1\n",
       "144086654    1\n",
       "787636346    1\n",
       "786523776    1\n",
       "394350213    1\n",
       "153179782    1\n",
       "337731207    1\n",
       "237059723    1\n",
       "791742092    1\n",
       "681643661    1\n",
       "897654415    1\n",
       "956425872    1\n",
       "262272658    1\n",
       "527511568    1\n",
       "461870686    1\n",
       "818402902    1\n",
       "896279698    1\n",
       "818185788    1\n",
       "            ..\n",
       "897426769    1\n",
       "609817717    1\n",
       "456870974    1\n",
       "656544905    1\n",
       "593196089    1\n",
       "174785591    1\n",
       "452283390    1\n",
       "122330116    1\n",
       "178947079    1\n",
       "526056456    1\n",
       "964359177    1\n",
       "937085966    1\n",
       "982872995    1\n",
       "949629969    1\n",
       "827989012    1\n",
       "334103575    1\n",
       "986348568    1\n",
       "121518983    1\n",
       "280648732    1\n",
       "381307934    1\n",
       "450608160    1\n",
       "984323109    1\n",
       "691797032    1\n",
       "952890409    1\n",
       "410774570    1\n",
       "768761272    1\n",
       "884685872    1\n",
       "643511345    1\n",
       "789261362    1\n",
       "224366187    1\n",
       "Name: CMPLNT_NUM, Length: 458223, dtype: int64"
      ]
     },
     "execution_count": 4,
     "metadata": {},
     "output_type": "execute_result"
    }
   ],
   "source": [
    "df.CMPLNT_NUM.value_counts()"
   ]
  }
 ],
 "metadata": {
  "kernelspec": {
   "display_name": "Python 3",
   "language": "python",
   "name": "python3"
  },
  "language_info": {
   "codemirror_mode": {
    "name": "ipython",
    "version": 3
   },
   "file_extension": ".py",
   "mimetype": "text/x-python",
   "name": "python",
   "nbconvert_exporter": "python",
   "pygments_lexer": "ipython3",
   "version": "3.7.0"
  }
 },
 "nbformat": 4,
 "nbformat_minor": 2
}
