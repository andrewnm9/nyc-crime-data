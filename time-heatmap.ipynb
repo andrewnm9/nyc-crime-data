{
 "cells": [
  {
   "cell_type": "code",
   "execution_count": 5,
   "metadata": {},
   "outputs": [],
   "source": [
    "%matplotlib inline\n",
    "\n",
    "import pandas as pd\n",
    "import numpy as np\n",
    "from datetime import datetime\n",
    "import matplotlib.pyplot as plt\n",
    "import seaborn as sns\n",
    "sns.set(style=\"darkgrid\")"
   ]
  },
  {
   "cell_type": "code",
   "execution_count": 7,
   "metadata": {},
   "outputs": [],
   "source": [
    "df = pd.read_csv(\"NYPD_Complaint_Data_Historic.tsv\", sep=\"\\t\", usecols=['CMPLNT_FR_DT', 'CMPLNT_FR_TM'])"
   ]
  },
  {
   "cell_type": "code",
   "execution_count": 25,
   "metadata": {},
   "outputs": [],
   "source": [
    "def process_datetime(dt):\n",
    "    '''a simple function to parse string time into several components'''\n",
    "    dt = datetime.strptime(dt, '%m/%d/%Y')\n",
    "    return dt.weekday()  # you can modify here to get other time components\n",
    "\n",
    "def process_datetime2(dt):\n",
    "    '''a simple function to parse string time into several components'''\n",
    "    dt = datetime.strptime(dt, '%H:%M:%S')\n",
    "    return dt.hour  # you can modify here to get other time components\n",
    "\n",
    "wd = df.CMPLNT_FR_DT.apply(lambda x: process_datetime(x))\n",
    "tm = df.CMPLNT_FR_TM.apply(lambda x: process_datetime2(x))\n",
    "nnn= pd.concat([wd, tm], axis=1)\n"
   ]
  },
  {
   "cell_type": "code",
   "execution_count": 26,
   "metadata": {},
   "outputs": [
    {
     "data": {
      "text/plain": [
       "17    27824\n",
       "18    27520\n",
       "15    26953\n",
       "16    26774\n",
       "19    25766\n",
       "20    25048\n",
       "12    25032\n",
       "14    24590\n",
       "21    22479\n",
       "13    21928\n",
       "0     21416\n",
       "22    20840\n",
       "23    19102\n",
       "11    18935\n",
       "10    18342\n",
       "9     17105\n",
       "8     15999\n",
       "1     15241\n",
       "2     12667\n",
       "3     10685\n",
       "7     10072\n",
       "4      9569\n",
       "6      7387\n",
       "5      6949\n",
       "Name: CMPLNT_FR_TM, dtype: int64"
      ]
     },
     "execution_count": 26,
     "metadata": {},
     "output_type": "execute_result"
    }
   ],
   "source": [
    "#plt.pcolor(nnn, cmap='Reds')\n",
    "#plt.colorbar()\n",
    "#plt.show()\n",
    "nnn.CMPLNT_FR_TM.value_counts()"
   ]
  }
 ],
 "metadata": {
  "kernelspec": {
   "display_name": "Python 3",
   "language": "python",
   "name": "python3"
  },
  "language_info": {
   "codemirror_mode": {
    "name": "ipython",
    "version": 3
   },
   "file_extension": ".py",
   "mimetype": "text/x-python",
   "name": "python",
   "nbconvert_exporter": "python",
   "pygments_lexer": "ipython3",
   "version": "3.7.0"
  }
 },
 "nbformat": 4,
 "nbformat_minor": 2
}
